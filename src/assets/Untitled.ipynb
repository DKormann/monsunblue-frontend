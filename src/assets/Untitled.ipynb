{
 "cells": [
  {
   "cell_type": "code",
   "execution_count": 207,
   "id": "shared-special",
   "metadata": {},
   "outputs": [],
   "source": [
    "def generate():\n",
    "    p1 = open(\"part1.txt\")\n",
    "    p2 = open(\"part2.txt\")\n",
    "    \n",
    "    w = open(\"wav.svg\",'w')\n",
    "    \n",
    "    lines1 = p1.readlines()\n",
    "    lines1.append(w)\n",
    "    w.writelines(lines1)\n",
    "#     w.writelines(p2.readlines())\n",
    "    w.close"
   ]
  },
  {
   "cell_type": "code",
   "execution_count": 232,
   "id": "municipal-chile",
   "metadata": {},
   "outputs": [],
   "source": [
    "w= open(\"wav.svg\")"
   ]
  },
  {
   "cell_type": "code",
   "execution_count": 238,
   "id": "union-roller",
   "metadata": {},
   "outputs": [
    {
     "data": {
      "text/plain": [
       "''"
      ]
     },
     "execution_count": 238,
     "metadata": {},
     "output_type": "execute_result"
    }
   ],
   "source": [
    "w.readline()"
   ]
  },
  {
   "cell_type": "markdown",
   "id": "pressed-modern",
   "metadata": {},
   "source": [
    "\"M000+300\n",
    "  C000+300\n",
    "  +200+200\n",
    "  +300+200\n",
    "  C400+200\n",
    "  +600+300\n",
    "  +600+300\""
   ]
  },
  {
   "cell_type": "code",
   "execution_count": 199,
   "id": "micro-diploma",
   "metadata": {},
   "outputs": [],
   "source": [
    "Y = [10,\n",
    "     -20,\n",
    "      30,\n",
    "     -40,\n",
    "      50,\n",
    "     -30,\n",
    "      20,\n",
    "     -10]\n",
    "Y = [0,\n",
    "    -10,\n",
    "    20,\n",
    "    -30,\n",
    "    40,\n",
    "    -50,\n",
    "    60,\n",
    "    -70,\n",
    "    80,\n",
    "    -60,\n",
    "    50,\n",
    "    -30,\n",
    "    20,\n",
    "    -10,]"
   ]
  },
  {
   "cell_type": "code",
   "execution_count": 242,
   "id": "local-paper",
   "metadata": {},
   "outputs": [
    {
     "data": {
      "text/plain": [
       "'M0+300C25+300+25+300+50+300C75+300+75+290+100+290C125+290+125+320+150+320C175+320+175+270+200+270C225+270+225+340+250+340C275+340+275+250+300+250C325+250+325+360+350+360C375+360+375+230+400+230C425+230+425+380+450+380C475+380+475+240+500+240C525+240+525+350+550+350C575+350+575+270+600+270C625+270+625+320+650+320C675+320+675+290+700+290C725+290+725+300+750+300'"
      ]
     },
     "execution_count": 242,
     "metadata": {},
     "output_type": "execute_result"
    }
   ],
   "source": [
    "x = 0\n",
    "w = 25\n",
    "data = \"M\"+str(x)+\"+300C\"+str(x+w)+\"+300\"\n",
    "# x = 12\n",
    "\n",
    "for y in Y:\n",
    "    x+=50\n",
    "    data +=\"+\"+str(x-w)+\"+\"+str(y+300)+\"+\"+str(x)+\"+\"+str(y+300)+\"C\"+str(x+w)+\"+\"+str(y+300)\n",
    "x+=50\n",
    "data += \"+\"+str(x-w)+\"+300+\"+str(x)+\"+300\"\n",
    "data"
   ]
  },
  {
   "cell_type": "code",
   "execution_count": 208,
   "id": "twelve-bikini",
   "metadata": {},
   "outputs": [
    {
     "ename": "TypeError",
     "evalue": "write() argument must be str, not _io.TextIOWrapper",
     "output_type": "error",
     "traceback": [
      "\u001b[0;31m---------------------------------------------------------------------------\u001b[0m",
      "\u001b[0;31mTypeError\u001b[0m                                 Traceback (most recent call last)",
      "\u001b[0;32m<ipython-input-208-b97e0091fa1b>\u001b[0m in \u001b[0;36m<module>\u001b[0;34m\u001b[0m\n\u001b[0;32m----> 1\u001b[0;31m \u001b[0mgenerate\u001b[0m\u001b[0;34m(\u001b[0m\u001b[0;34m)\u001b[0m\u001b[0;34m\u001b[0m\u001b[0;34m\u001b[0m\u001b[0m\n\u001b[0m",
      "\u001b[0;32m<ipython-input-207-76bc2e375be9>\u001b[0m in \u001b[0;36mgenerate\u001b[0;34m()\u001b[0m\n\u001b[1;32m      7\u001b[0m     \u001b[0mlines1\u001b[0m \u001b[0;34m=\u001b[0m \u001b[0mp1\u001b[0m\u001b[0;34m.\u001b[0m\u001b[0mreadlines\u001b[0m\u001b[0;34m(\u001b[0m\u001b[0;34m)\u001b[0m\u001b[0;34m\u001b[0m\u001b[0;34m\u001b[0m\u001b[0m\n\u001b[1;32m      8\u001b[0m     \u001b[0mlines1\u001b[0m\u001b[0;34m.\u001b[0m\u001b[0mappend\u001b[0m\u001b[0;34m(\u001b[0m\u001b[0mw\u001b[0m\u001b[0;34m)\u001b[0m\u001b[0;34m\u001b[0m\u001b[0;34m\u001b[0m\u001b[0m\n\u001b[0;32m----> 9\u001b[0;31m     \u001b[0mw\u001b[0m\u001b[0;34m.\u001b[0m\u001b[0mwritelines\u001b[0m\u001b[0;34m(\u001b[0m\u001b[0mlines1\u001b[0m\u001b[0;34m)\u001b[0m\u001b[0;34m\u001b[0m\u001b[0;34m\u001b[0m\u001b[0m\n\u001b[0m\u001b[1;32m     10\u001b[0m \u001b[0;31m#     w.writelines(p2.readlines())\u001b[0m\u001b[0;34m\u001b[0m\u001b[0;34m\u001b[0m\u001b[0;34m\u001b[0m\u001b[0m\n\u001b[1;32m     11\u001b[0m     \u001b[0mw\u001b[0m\u001b[0;34m.\u001b[0m\u001b[0mclose\u001b[0m\u001b[0;34m\u001b[0m\u001b[0;34m\u001b[0m\u001b[0m\n",
      "\u001b[0;31mTypeError\u001b[0m: write() argument must be str, not _io.TextIOWrapper"
     ]
    }
   ],
   "source": [
    "generate()"
   ]
  },
  {
   "cell_type": "code",
   "execution_count": 178,
   "id": "municipal-processing",
   "metadata": {},
   "outputs": [],
   "source": [
    "w = open(\"txt\",'w')\n",
    "w.write(data)\n",
    "w.close()"
   ]
  },
  {
   "cell_type": "code",
   "execution_count": 206,
   "id": "major-contributor",
   "metadata": {},
   "outputs": [
    {
     "ename": "NameError",
     "evalue": "name 'List' is not defined",
     "output_type": "error",
     "traceback": [
      "\u001b[0;31m---------------------------------------------------------------------------\u001b[0m",
      "\u001b[0;31mNameError\u001b[0m                                 Traceback (most recent call last)",
      "\u001b[0;32m<ipython-input-206-faddaf594533>\u001b[0m in \u001b[0;36m<module>\u001b[0;34m\u001b[0m\n\u001b[0;32m----> 1\u001b[0;31m \u001b[0mList\u001b[0m\u001b[0;34m\u001b[0m\u001b[0;34m\u001b[0m\u001b[0m\n\u001b[0m",
      "\u001b[0;31mNameError\u001b[0m: name 'List' is not defined"
     ]
    }
   ],
   "source": [
    "List"
   ]
  }
 ],
 "metadata": {
  "kernelspec": {
   "display_name": "Python 3",
   "language": "python",
   "name": "python3"
  },
  "language_info": {
   "codemirror_mode": {
    "name": "ipython",
    "version": 3
   },
   "file_extension": ".py",
   "mimetype": "text/x-python",
   "name": "python",
   "nbconvert_exporter": "python",
   "pygments_lexer": "ipython3",
   "version": "3.9.5"
  }
 },
 "nbformat": 4,
 "nbformat_minor": 5
}
