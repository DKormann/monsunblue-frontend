{
 "cells": [
  {
   "cell_type": "code",
   "execution_count": 207,
   "id": "complex-nylon",
   "metadata": {},
   "outputs": [],
   "source": [
    "def generate():\n",
    "    p1 = open(\"part1.txt\")\n",
    "    p2 = open(\"part2.txt\")\n",
    "    \n",
    "    w = open(\"wav.svg\",'w')\n",
    "    \n",
    "    lines1 = p1.readlines()\n",
    "    lines1.append(w)\n",
    "    w.writelines(lines1)\n",
    "#     w.writelines(p2.readlines())\n",
    "    w.close"
   ]
  },
  {
   "cell_type": "code",
   "execution_count": 232,
   "id": "stupid-teaching",
   "metadata": {},
   "outputs": [],
   "source": [
    "w= open(\"wav.svg\")"
   ]
  },
  {
   "cell_type": "code",
   "execution_count": 238,
   "id": "located-width",
   "metadata": {},
   "outputs": [
    {
     "data": {
      "text/plain": [
       "''"
      ]
     },
     "execution_count": 238,
     "metadata": {},
     "output_type": "execute_result"
    }
   ],
   "source": [
    "w.readline()"
   ]
  },
  {
   "cell_type": "markdown",
   "id": "prostate-buying",
   "metadata": {},
   "source": [
    "\"M000+300\n",
    "  C000+300\n",
    "  +200+200\n",
    "  +300+200\n",
    "  C400+200\n",
    "  +600+300\n",
    "  +600+300\""
   ]
  },
  {
   "cell_type": "code",
   "execution_count": 199,
   "id": "sized-thomas",
   "metadata": {},
   "outputs": [],
   "source": [
    "Y = [10,\n",
    "     -20,\n",
    "      30,\n",
    "     -40,\n",
    "      50,\n",
    "     -30,\n",
    "      20,\n",
    "     -10]\n",
    "Y = [0,\n",
    "    -10,\n",
    "    20,\n",
    "    -30,\n",
    "    40,\n",
    "    -50,\n",
    "    60,\n",
    "    -70,\n",
    "    80,\n",
    "    -60,\n",
    "    50,\n",
    "    -30,\n",
    "    20,\n",
    "    -10,]"
   ]
  },
  {
   "cell_type": "code",
   "execution_count": 240,
   "id": "engaged-anger",
   "metadata": {},
   "outputs": [
    {
     "data": {
      "text/plain": [
       "'M12+300C37+300+37+300+62+300C87+300+87+290+112+290C137+290+137+320+162+320C187+320+187+270+212+270C237+270+237+340+262+340C287+340+287+250+312+250C337+250+337+360+362+360C387+360+387+230+412+230C437+230+437+380+462+380C487+380+487+240+512+240C537+240+537+350+562+350C587+350+587+270+612+270C637+270+637+320+662+320C687+320+687+290+712+290C737+290+737+300+762+300'"
      ]
     },
     "execution_count": 240,
     "metadata": {},
     "output_type": "execute_result"
    }
   ],
   "source": [
    "x = 0\n",
    "w = 25\n",
    "data = \"M\"+str(x)+\"+300C\"+str(x+w)+\"+300\"\n",
    "x = 12\n",
    "\n",
    "for y in Y:\n",
    "    x+=50\n",
    "    data +=\"+\"+str(x-w)+\"+\"+str(y+300)+\"+\"+str(x)+\"+\"+str(y+300)+\"C\"+str(x+w)+\"+\"+str(y+300)\n",
    "x+=50\n",
    "data += \"+\"+str(x-w)+\"+300+\"+str(x)+\"+300\"\n",
    "data"
   ]
  },
  {
   "cell_type": "code",
   "execution_count": 208,
   "id": "thousand-islam",
   "metadata": {},
   "outputs": [
    {
     "ename": "TypeError",
     "evalue": "write() argument must be str, not _io.TextIOWrapper",
     "output_type": "error",
     "traceback": [
      "\u001b[0;31m---------------------------------------------------------------------------\u001b[0m",
      "\u001b[0;31mTypeError\u001b[0m                                 Traceback (most recent call last)",
      "\u001b[0;32m<ipython-input-208-b97e0091fa1b>\u001b[0m in \u001b[0;36m<module>\u001b[0;34m\u001b[0m\n\u001b[0;32m----> 1\u001b[0;31m \u001b[0mgenerate\u001b[0m\u001b[0;34m(\u001b[0m\u001b[0;34m)\u001b[0m\u001b[0;34m\u001b[0m\u001b[0;34m\u001b[0m\u001b[0m\n\u001b[0m",
      "\u001b[0;32m<ipython-input-207-76bc2e375be9>\u001b[0m in \u001b[0;36mgenerate\u001b[0;34m()\u001b[0m\n\u001b[1;32m      7\u001b[0m     \u001b[0mlines1\u001b[0m \u001b[0;34m=\u001b[0m \u001b[0mp1\u001b[0m\u001b[0;34m.\u001b[0m\u001b[0mreadlines\u001b[0m\u001b[0;34m(\u001b[0m\u001b[0;34m)\u001b[0m\u001b[0;34m\u001b[0m\u001b[0;34m\u001b[0m\u001b[0m\n\u001b[1;32m      8\u001b[0m     \u001b[0mlines1\u001b[0m\u001b[0;34m.\u001b[0m\u001b[0mappend\u001b[0m\u001b[0;34m(\u001b[0m\u001b[0mw\u001b[0m\u001b[0;34m)\u001b[0m\u001b[0;34m\u001b[0m\u001b[0;34m\u001b[0m\u001b[0m\n\u001b[0;32m----> 9\u001b[0;31m     \u001b[0mw\u001b[0m\u001b[0;34m.\u001b[0m\u001b[0mwritelines\u001b[0m\u001b[0;34m(\u001b[0m\u001b[0mlines1\u001b[0m\u001b[0;34m)\u001b[0m\u001b[0;34m\u001b[0m\u001b[0;34m\u001b[0m\u001b[0m\n\u001b[0m\u001b[1;32m     10\u001b[0m \u001b[0;31m#     w.writelines(p2.readlines())\u001b[0m\u001b[0;34m\u001b[0m\u001b[0;34m\u001b[0m\u001b[0;34m\u001b[0m\u001b[0m\n\u001b[1;32m     11\u001b[0m     \u001b[0mw\u001b[0m\u001b[0;34m.\u001b[0m\u001b[0mclose\u001b[0m\u001b[0;34m\u001b[0m\u001b[0;34m\u001b[0m\u001b[0m\n",
      "\u001b[0;31mTypeError\u001b[0m: write() argument must be str, not _io.TextIOWrapper"
     ]
    }
   ],
   "source": [
    "generate()"
   ]
  },
  {
   "cell_type": "code",
   "execution_count": 178,
   "id": "recovered-tower",
   "metadata": {},
   "outputs": [],
   "source": [
    "w = open(\"txt\",'w')\n",
    "w.write(data)\n",
    "w.close()"
   ]
  },
  {
   "cell_type": "code",
   "execution_count": 206,
   "id": "eleven-highlight",
   "metadata": {},
   "outputs": [
    {
     "ename": "NameError",
     "evalue": "name 'List' is not defined",
     "output_type": "error",
     "traceback": [
      "\u001b[0;31m---------------------------------------------------------------------------\u001b[0m",
      "\u001b[0;31mNameError\u001b[0m                                 Traceback (most recent call last)",
      "\u001b[0;32m<ipython-input-206-faddaf594533>\u001b[0m in \u001b[0;36m<module>\u001b[0;34m\u001b[0m\n\u001b[0;32m----> 1\u001b[0;31m \u001b[0mList\u001b[0m\u001b[0;34m\u001b[0m\u001b[0;34m\u001b[0m\u001b[0m\n\u001b[0m",
      "\u001b[0;31mNameError\u001b[0m: name 'List' is not defined"
     ]
    }
   ],
   "source": [
    "List"
   ]
  }
 ],
 "metadata": {
  "kernelspec": {
   "display_name": "Python 3",
   "language": "python",
   "name": "python3"
  },
  "language_info": {
   "codemirror_mode": {
    "name": "ipython",
    "version": 3
   },
   "file_extension": ".py",
   "mimetype": "text/x-python",
   "name": "python",
   "nbconvert_exporter": "python",
   "pygments_lexer": "ipython3",
   "version": "3.9.5"
  }
 },
 "nbformat": 4,
 "nbformat_minor": 5
}
